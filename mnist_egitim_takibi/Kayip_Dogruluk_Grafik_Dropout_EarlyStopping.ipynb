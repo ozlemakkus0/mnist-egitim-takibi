{
 "cells": [
  {
   "cell_type": "markdown",
   "id": "3b104c5f",
   "metadata": {},
   "source": [
    "# Model Kaybı ve Doğruluğunu Grafikle Takip Etme\n",
    "Bu örnekte:\n",
    "- Modelin doğruluk ve kayıp değerlerini izleme\n",
    "- Aşırı öğrenmeyi engellemek için Dropout kullanma\n",
    "- EarlyStopping ile eğitim sürecini otomatik durdurma\n",
    "- MNIST veri setiyle görsel sınıflandırma yapılacaktır."
   ]
  },
  {
   "cell_type": "code",
   "execution_count": null,
   "id": "d49001da",
   "metadata": {},
   "outputs": [],
   "source": [
    "import numpy as np\n",
    "import matplotlib.pyplot as plt\n",
    "from tensorflow.keras.models import Sequential\n",
    "from tensorflow.keras.layers import Dense, Dropout\n",
    "from tensorflow.keras.datasets import mnist\n",
    "from tensorflow.keras.utils import to_categorical\n",
    "from tensorflow.keras.callbacks import EarlyStopping\n"
   ]
  },
  {
   "cell_type": "markdown",
   "id": "f89b4a4b",
   "metadata": {},
   "source": [
    "## MNIST Verisini Yükleme ve Hazırlama"
   ]
  },
  {
   "cell_type": "code",
   "execution_count": null,
   "id": "a1b9d734",
   "metadata": {},
   "outputs": [],
   "source": [
    "(x_train, y_train), (x_test, y_test) = mnist.load_data()\n",
    "x_train = x_train.reshape(-1, 28*28) / 255.0\n",
    "x_test = x_test.reshape(-1, 28*28) / 255.0\n",
    "y_train = to_categorical(y_train, 10)\n",
    "y_test = to_categorical(y_test, 10)\n"
   ]
  },
  {
   "cell_type": "markdown",
   "id": "bbf1c8fd",
   "metadata": {},
   "source": [
    "## Dropout ve EarlyStopping Kullanılan Model"
   ]
  },
  {
   "cell_type": "code",
   "execution_count": null,
   "id": "1110c122",
   "metadata": {},
   "outputs": [],
   "source": [
    "model = Sequential()\n",
    "model.add(Dense(128, activation='relu', input_shape=(784,)))\n",
    "model.add(Dropout(0.3))  # %30 nöron devre dışı\n",
    "model.add(Dense(64, activation='relu'))\n",
    "model.add(Dense(10, activation='softmax'))\n",
    "\n",
    "model.compile(optimizer='adam', loss='categorical_crossentropy', metrics=['accuracy'])\n",
    "\n",
    "early_stop = EarlyStopping(monitor='val_loss', patience=3, restore_best_weights=True)\n"
   ]
  },
  {
   "cell_type": "markdown",
   "id": "06c5f6bf",
   "metadata": {},
   "source": [
    "## Model Eğitimi ve Takibi"
   ]
  },
  {
   "cell_type": "code",
   "execution_count": null,
   "id": "64c5b8ae",
   "metadata": {},
   "outputs": [],
   "source": [
    "history = model.fit(x_train, y_train,\n",
    "                    epochs=20,\n",
    "                    batch_size=128,\n",
    "                    validation_data=(x_test, y_test),\n",
    "                    callbacks=[early_stop],\n",
    "                    verbose=1)\n"
   ]
  },
  {
   "cell_type": "markdown",
   "id": "55a093f4",
   "metadata": {},
   "source": [
    "## Doğruluk ve Kayıp Grafikleri"
   ]
  },
  {
   "cell_type": "code",
   "execution_count": null,
   "id": "d1a5b57e",
   "metadata": {},
   "outputs": [],
   "source": [
    "plt.figure(figsize=(12,5))\n",
    "\n",
    "# Doğruluk grafiği\n",
    "plt.subplot(1, 2, 1)\n",
    "plt.plot(history.history['accuracy'], label='Eğitim')\n",
    "plt.plot(history.history['val_accuracy'], label='Doğrulama')\n",
    "plt.title(\"Doğruluk\")\n",
    "plt.xlabel(\"Epoch\")\n",
    "plt.ylabel(\"Oran\")\n",
    "plt.legend()\n",
    "\n",
    "# Kayıp grafiği\n",
    "plt.subplot(1, 2, 2)\n",
    "plt.plot(history.history['loss'], label='Eğitim')\n",
    "plt.plot(history.history['val_loss'], label='Doğrulama')\n",
    "plt.title(\"Kayıp (Loss)\")\n",
    "plt.xlabel(\"Epoch\")\n",
    "plt.ylabel(\"Hata\")\n",
    "plt.legend()\n",
    "\n",
    "plt.tight_layout()\n",
    "plt.show()\n"
   ]
  },
  {
   "cell_type": "markdown",
   "id": "9333047a",
   "metadata": {},
   "source": [
    "## Örnek Görsel Tahmini"
   ]
  },
  {
   "cell_type": "code",
   "execution_count": null,
   "id": "cffdd446",
   "metadata": {},
   "outputs": [],
   "source": [
    "index = 20\n",
    "sample = x_test[index].reshape(1, -1)\n",
    "prediction = model.predict(sample)\n",
    "\n",
    "plt.imshow(x_test[index].reshape(28,28), cmap='gray')\n",
    "plt.title(f\"Tahmin: {np.argmax(prediction)}, Gerçek: {np.argmax(y_test[index])}\")\n",
    "plt.axis('off')\n",
    "plt.show()\n"
   ]
  }
 ],
 "metadata": {},
 "nbformat": 4,
 "nbformat_minor": 5
}
